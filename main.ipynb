{
 "cells": [
  {
   "cell_type": "code",
   "execution_count": 1,
   "metadata": {},
   "outputs": [],
   "source": [
    "from cl_DataTransform import DataTransform\n",
    "from cl_DataFrameTransform import DataFrameTransform\n",
    "from cl_Plotter import Plotter\n",
    "import missingno as msno"
   ]
  },
  {
   "cell_type": "markdown",
   "metadata": {},
   "source": [
    "***Task-1 : created ipynb file and don't seem to have anything to convert ***\n",
    "Task-2 : checked data types and statistical values in DataTransform.load_data and NULL percentage in DataTransform.analyse_nulls methods"
   ]
  },
  {
   "cell_type": "code",
   "execution_count": null,
   "metadata": {},
   "outputs": [],
   "source": [
    "## Task-2 Data analysis and tranformation\n",
    "# data_tf = DataTransform()\n",
    "# data_tf.load_data()\n",
    "# data_tf.analyse_nulls()"
   ]
  },
  {
   "cell_type": "markdown",
   "metadata": {},
   "source": [
    "# Task 3"
   ]
  },
  {
   "cell_type": "code",
   "execution_count": 2,
   "metadata": {},
   "outputs": [],
   "source": [
    "## Task-3 Remove impute/missing values \n",
    "# dataf_tf = DataFrameTransform()\n",
    "# dataf_tf.load_data()\n",
    "# dataf_tf.analyse_missing_values()\n",
    "# dataf_tf.impute_col()\n",
    "# dataf_tf.remove_outliers_zscore()"
   ]
  },
  {
   "cell_type": "markdown",
   "metadata": {},
   "source": [
    "Task 4 - Tranformations on skewed columns"
   ]
  },
  {
   "cell_type": "code",
   "execution_count": null,
   "metadata": {},
   "outputs": [],
   "source": [
    "## Task 4 - Tranformations on skewed columns\n",
    "# dataf_tf = DataFrameTransform()\n",
    "# dataf_tf.load_data()\n",
    "## Finding skewed data\n",
    "# dataf_tf.find_skewed_columns()\n",
    "# dataf_tf.fix_skew_log_transform()"
   ]
  },
  {
   "cell_type": "markdown",
   "metadata": {},
   "source": [
    "Task 5 Outliers"
   ]
  },
  {
   "cell_type": "code",
   "execution_count": null,
   "metadata": {},
   "outputs": [],
   "source": [
    "## Task 5 Outliers\n",
    "# dataf_tf.analyse_missing_values()\n",
    "# dataf_tf.impute_col()\n",
    "# dataf_tf.remove_outliers_zscore()\n",
    "\n",
    "# plot = Plotter()\n",
    "# plot.load_data()\n",
    "# plot.identify_outliers()"
   ]
  },
  {
   "cell_type": "markdown",
   "metadata": {},
   "source": [
    "Task 6 Corelated columns"
   ]
  },
  {
   "cell_type": "code",
   "execution_count": null,
   "metadata": {},
   "outputs": [],
   "source": [
    "## Corelated columns\n",
    "plot = Plotter()\n",
    "plot.load_data()\n",
    "plot.identify_Collinearity()"
   ]
  }
 ],
 "metadata": {
  "kernelspec": {
   "display_name": "Python 3",
   "language": "python",
   "name": "python3"
  },
  "language_info": {
   "codemirror_mode": {
    "name": "ipython",
    "version": 3
   },
   "file_extension": ".py",
   "mimetype": "text/x-python",
   "name": "python",
   "nbconvert_exporter": "python",
   "pygments_lexer": "ipython3",
   "version": "3.10.13"
  }
 },
 "nbformat": 4,
 "nbformat_minor": 2
}
