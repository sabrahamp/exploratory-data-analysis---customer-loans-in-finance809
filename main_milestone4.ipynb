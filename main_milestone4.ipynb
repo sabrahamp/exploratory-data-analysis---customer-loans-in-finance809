{
 "cells": [
  {
   "cell_type": "markdown",
   "metadata": {},
   "source": [
    "# Milestone-4 "
   ]
  },
  {
   "cell_type": "code",
   "execution_count": 1,
   "metadata": {},
   "outputs": [],
   "source": [
    "from cl_DataFrameTransform import DataFrameTransform "
   ]
  },
  {
   "cell_type": "markdown",
   "metadata": {},
   "source": [
    "## Task-1"
   ]
  },
  {
   "cell_type": "code",
   "execution_count": 2,
   "metadata": {},
   "outputs": [
    {
     "name": "stdout",
     "output_type": "stream",
     "text": [
      "total v_paymnts_delay_counts for delayed payments : 686\n",
      "total tot_loans_count for delayed payments : 54231\n",
      "% of recoveries and loan_amount for Charged-off loans : 1.2649591562021723\n"
     ]
    }
   ],
   "source": [
    "## Task-1 Find percentage of loans recovered\n",
    "dataf_tf = DataFrameTransform()\n",
    "dataf_tf.load_data()\n",
    "dataf_tf.per_of_loans_recovered()\n"
   ]
  },
  {
   "cell_type": "markdown",
   "metadata": {},
   "source": [
    "## Task 2"
   ]
  },
  {
   "cell_type": "code",
   "execution_count": null,
   "metadata": {},
   "outputs": [],
   "source": [
    "dataf_tf = DataFrameTransform()\n",
    "dataf_tf.load_data()\n",
    "dataf_tf.perc_of_loss_of_loans()\n",
    "dataf_tf.total_chared_off_amt()"
   ]
  },
  {
   "cell_type": "markdown",
   "metadata": {},
   "source": [
    "## Task 3"
   ]
  },
  {
   "cell_type": "code",
   "execution_count": null,
   "metadata": {},
   "outputs": [],
   "source": [
    "dataf_tf = DataFrameTransform()\n",
    "dataf_tf.load_data()\n",
    "dataf_tf.loss_in_revenue_amt()"
   ]
  },
  {
   "cell_type": "markdown",
   "metadata": {},
   "source": [
    "## Task 4"
   ]
  },
  {
   "cell_type": "code",
   "execution_count": null,
   "metadata": {},
   "outputs": [],
   "source": [
    "dataf_tf = DataFrameTransform()\n",
    "dataf_tf.load_data()\n",
    "dataf_tf.loss_for_paymnts_delay()"
   ]
  },
  {
   "cell_type": "markdown",
   "metadata": {},
   "source": [
    "## Task 5"
   ]
  },
  {
   "cell_type": "code",
   "execution_count": 4,
   "metadata": {},
   "outputs": [],
   "source": [
    "dataf_tf = DataFrameTransform()\n",
    "dataf_tf.load_data()\n",
    "## dataf_tf.indicators_of_loss_by_grd_purp()\n",
    "## dataf_tf.indicators_of_loss_by_grd_sts()"
   ]
  }
 ],
 "metadata": {
  "kernelspec": {
   "display_name": "Python 3",
   "language": "python",
   "name": "python3"
  },
  "language_info": {
   "codemirror_mode": {
    "name": "ipython",
    "version": 3
   },
   "file_extension": ".py",
   "mimetype": "text/x-python",
   "name": "python",
   "nbconvert_exporter": "python",
   "pygments_lexer": "ipython3",
   "version": "3.10.13"
  }
 },
 "nbformat": 4,
 "nbformat_minor": 2
}
